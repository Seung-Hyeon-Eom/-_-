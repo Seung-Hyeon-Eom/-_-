{
 "cells": [
  {
   "cell_type": "code",
   "execution_count": 125,
   "id": "c12adc50",
   "metadata": {},
   "outputs": [],
   "source": [
    "import pandas as pd\n",
    "import csv\n",
    "import numpy as np\n",
    "path = 'C:/Users/tkddu/Desktop/Simio Result'\n",
    "\n",
    "#C:/Users/tkddu/Desktop/Simio Result\n",
    "\n",
    "for k in range(1, 12): \n",
    "    file_name = f'DT_0{k}.csv'\n",
    "    full_file_path = f'{path}/{file_name}'\n",
    "    df = pd.read_csv(full_file_path,header=None)\n",
    "    df.columns = ['Time']\n",
    "    df['Time'] = df['Time'].astype(float)\n",
    "    \n",
    "    file_path = 'C:/Users/tkddu/Desktop/Simio Result/Milling Machine Processing Time.xlsx'\n",
    "    pt = pd.read_excel(file_path, header=None)\n",
    "    pt.columns = ['Time'] * 11\n",
    "    # 첫 번째 열만 추출하여 새로운 데이터프레임 생성 (복제)\n",
    "\n",
    "\n",
    "    # 엑셀 파일로부터 데이터 읽기 (Column 이름 없이)\n",
    "    #file_path = 'C:/Users/user/Desktop/0717/MRR.xlsx'\n",
    "    #mrr = pd.read_excel(file_path, header=None)\n",
    "    \n",
    "    # Column 이름 변경\n",
    "   # mrr.columns = ['Time'] * 9\n",
    "\n",
    "    # 'Time' Column의 데이터 형식을 float로 변환\n",
    "    #mrr['Time'] = mrr['Time'].astype(float)\n",
    "\n",
    "    vector = np.zeros(2700000)\n",
    "    for i in range(len(df)):\n",
    "        Power = 2005 + 0.1040 * 2149\n",
    "        end_index = round(df.iloc[i, 0] * 60)  # df i 번째 행 값\n",
    "        start_index = round(end_index -( pt.iloc[i, k-1]) * 60)  # df i 번째 행 값 + pt_1 i 번째 값\n",
    "        vector[start_index:end_index] = Power\n",
    "    vector[vector == 0] = 2005\n",
    "    output_file = f'vector_data{k}.csv' \n",
    "    np.savetxt(output_file, vector, delimiter=',')\n"
   ]
  },
  {
   "cell_type": "code",
   "execution_count": 126,
   "id": "09afd382",
   "metadata": {
    "scrolled": true
   },
   "outputs": [
   
     ]
    }
   ],
   "source": [
    "import pandas as pd\n",
    "\n",
    "path = 'C:/Users/tkddu'\n",
    "\n",
    "# 빈 DataFrame 생성\n",
    "combined_data = pd.DataFrame()\n",
    "\n",
    "# vector_data1 ~ vector_data9 파일을 순회하며 데이터를 합침\n",
    "for k in range(1, 12):\n",
    "    file_name = f'vector_data{k}.csv'\n",
    "    full_file_path = f'{path}/{file_name}'\n",
    "    \n",
    "    # CSV 파일로부터 데이터를 DataFrame으로 가져옴\n",
    "    df = pd.read_csv(full_file_path, header=None)\n",
    "    \n",
    "    # 데이터를 빈 DataFrame에 추가\n",
    "    combined_data = pd.concat([combined_data, df], axis=1)\n",
    "\n",
    "# 각 열에 해당하는 데이터를 정확히 명시하기 위해 열 이름을 설정\n",
    "combined_data.columns = [f'vector_data{k}' for k in range(1, 12)]\n",
    "\n",
    "# 같은 행의 값들을 더하여 1*n 형태로 변환\n",
    "sum_data = combined_data.sum(axis=1).transpose()\n",
    "\n",
    "sum_data = sum_data.reset_index(drop=True)\n",
    "\n",
    "# 결과를 확인\n",
    "print(sum_data)"
   ]
  },
  {
   "cell_type": "code",
   "execution_count": 127,
   "id": "816dd232",
   "metadata": {},
   "outputs": [],
   "source": [
    "output_file = 'Milling_Machine_sumvector_data.csv'\n",
    "sum_data.to_csv(output_file, index=True)"
   ]
  },
  {
   "cell_type": "code",
   "execution_count": 128,
   "id": "33cc43b4",
   "metadata": {},
   "outputs": [],
   "source": [
    "mean_values = sum_data.mean()\n",
    "max_values = sum_data.max()\n",
    "sum_values = sum_data.sum()/(60*60*1000)"
   ]
  },
  {
   "cell_type": "code",
   "execution_count": 129,
   "id": "42730ab8",
   "metadata": {
    "scrolled": false
   },
   "outputs": [
    {
     "name": "stdout",
     "output_type": "stream",
     "text": [
      "23043.49938247178 24513.455999999995 17282.624536731106\n"
     ]
    }
   ],
   "source": [
    "print(mean_values,max_values,sum_values)"
   ]
  },
  {
   "cell_type": "code",
   "execution_count": null,
   "id": "f9ed6c05",
   "metadata": {},
   "outputs": [],
   "source": []
  },
  {
   "cell_type": "code",
   "execution_count": null,
   "id": "a7ec070a",
   "metadata": {},
   "outputs": [],
   "source": []
  },
  {
   "cell_type": "code",
   "execution_count": null,
   "id": "ff9eb5c6",
   "metadata": {},
   "outputs": [],
   "source": []
  }
 ],
 "metadata": {
  "hide_input": false,
  "kernelspec": {
   "display_name": "Python 3 (ipykernel)",
   "language": "python",
   "name": "python3"
  },
  "language_info": {
   "codemirror_mode": {
    "name": "ipython",
    "version": 3
   },
   "file_extension": ".py",
   "mimetype": "text/x-python",
   "name": "python",
   "nbconvert_exporter": "python",
   "pygments_lexer": "ipython3",
   "version": "3.9.7"
  },
  "toc": {
   "base_numbering": 1,
   "nav_menu": {},
   "number_sections": true,
   "sideBar": true,
   "skip_h1_title": false,
   "title_cell": "Table of Contents",
   "title_sidebar": "Contents",
   "toc_cell": false,
   "toc_position": {},
   "toc_section_display": true,
   "toc_window_display": false
  }
 },
 "nbformat": 4,
 "nbformat_minor": 5
}
